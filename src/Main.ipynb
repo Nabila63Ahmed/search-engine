{
 "cells": [
  {
   "cell_type": "markdown",
   "metadata": {},
   "source": [
    "# Search Engine full stack "
   ]
  },
  {
   "cell_type": "markdown",
   "metadata": {},
   "source": [
    "## Building an Indexer for the crawled webpages"
   ]
  },
  {
   "cell_type": "code",
   "execution_count": 1,
   "metadata": {
    "collapsed": true,
    "scrolled": true
   },
   "outputs": [],
   "source": [
    "import os, elasticsearch"
   ]
  },
  {
   "cell_type": "code",
   "execution_count": 2,
   "metadata": {
    "collapsed": true
   },
   "outputs": [],
   "source": [
    "article_path = \"newyorktimes/newyorktimes/articles\"\n",
    "\n",
    "docs = [] \n",
    "doc_names = []\n",
    "doc_dic ={}\n",
    "for root, dirs, files in os.walk(article_path):\n",
    "    for file in files:\n",
    "        with open(os.path.join(root,file), 'r') as f:\n",
    "            doc_dic[file]= f.read()\n",
    "            \n",
    "docs = [*doc_dic.values()]\n",
    "doc_names = [*doc_dic.keys()] "
   ]
  },
  {
   "cell_type": "code",
   "execution_count": 3,
   "metadata": {
    "collapsed": true
   },
   "outputs": [],
   "source": [
    "es = elasticsearch.Elasticsearch()\n",
    "\n",
    "for i in range(len(docs)):\n",
    "    title = ''.join(doc_names[i].split('-')[1:]).split('.txt')[0]\n",
    "    authors = docs[i].split('Author(s): ')[1].split('\\n')[0].split(', ')\n",
    "    url = docs[i].split('url: ')[1].split('\\n')[0]\n",
    "    text =''.join(docs[i].split('url: ')[1].split('\\n')[2:])\n",
    "\n",
    "    es.index(index='scrapped', doc_type='article', id=i, body={\n",
    "        'title': title,\n",
    "        'authors': authors,\n",
    "        'url': url,\n",
    "        'text': text\n",
    "    })"
   ]
  },
  {
   "cell_type": "code",
   "execution_count": 4,
   "metadata": {
    "collapsed": true
   },
   "outputs": [],
   "source": [
    "def search_text(word):\n",
    "    res = es.search(index='scrapped', body={\"query\": {\"match\": {\"text\": word}}})\n",
    "    return list(map(lambda x: x['_source']['title'], res['hits']['hits']))"
   ]
  },
  {
   "cell_type": "code",
   "execution_count": 5,
   "metadata": {
    "collapsed": true
   },
   "outputs": [],
   "source": [
    "def search_title(word):\n",
    "    res = es.search(index='scrapped', body={\"query\": {\"match\": {\"title\": word}}})\n",
    "    return list(map(lambda x: x['_source']['title'], res['hits']['hits']))"
   ]
  },
  {
   "cell_type": "code",
   "execution_count": 6,
   "metadata": {
    "collapsed": true
   },
   "outputs": [],
   "source": [
    "def search_author(word):\n",
    "    res = es.search(index='scrapped', body={\"query\": {\"match\": {\"authors\": word}}})\n",
    "    return list(map(lambda x: x['_source']['title'], res['hits']['hits']))"
   ]
  },
  {
   "cell_type": "code",
   "execution_count": 7,
   "metadata": {
    "collapsed": true
   },
   "outputs": [],
   "source": [
    "def search_fuzzy(word):\n",
    "    res = es.search(index='scrapped', body={\"query\": {\"fuzzy\": {\"text\": word}}})\n",
    "    return list(map(lambda x: x['_source']['title'], res['hits']['hits']))"
   ]
  },
  {
   "cell_type": "code",
   "execution_count": 8,
   "metadata": {
    "collapsed": true
   },
   "outputs": [],
   "source": [
    "def search_compound_fields(field1, value1, field2, value2):\n",
    "    res = es.search(index='scrapped', body={ \"query\": { \"bool\": { \"must\": [ { \"match\": { field1: value1 } }, { \"match\": { field2: value2 } } ] } } })\n",
    "    return list(map(lambda x: x['_source']['title'], res['hits']['hits']))"
   ]
  },
  {
   "cell_type": "code",
   "execution_count": 9,
   "metadata": {},
   "outputs": [
    {
     "data": {
      "text/plain": [
       "['Syrian Military Seizes Mosque in Dara’a That Was Focus of Uprising',\n",
       " 'In Libya, Reinforcements Help Rebels Hold Their Ground',\n",
       " 'Libyan Forces Chase Rebel Convoy Into Tunisia, a Rebel Fighter Says',\n",
       " 'Libyan Forces Chase Rebel Convoy Into Tunisia, a Rebel Fighter Says',\n",
       " 'Syrian Resort Town Is Stronghold for Alawites',\n",
       " 'Aleppo Residents, Battered by War, Struggle to Survive']"
      ]
     },
     "execution_count": 9,
     "metadata": {},
     "output_type": "execute_result"
    }
   ],
   "source": [
    "search_text('Ahmed')"
   ]
  },
  {
   "cell_type": "code",
   "execution_count": 10,
   "metadata": {},
   "outputs": [
    {
     "data": {
      "text/plain": [
       "['Allies Pressure Qaddafi Forces',\n",
       " 'Rebels Storm Qaddafi Compound',\n",
       " 'Rebels Storm Qaddafi Compound',\n",
       " 'Rebels Storm Qaddafi Compound',\n",
       " 'Allies Pressure Qaddafi Forces',\n",
       " 'Rebels Storm Qaddafi Compound',\n",
       " 'Rebels Storm Qaddafi Compound',\n",
       " 'Rebels Storm Qaddafi Compound',\n",
       " 'Allies Pressure Qaddafi Forces',\n",
       " 'Allies Pressure Qaddafi Forces']"
      ]
     },
     "execution_count": 10,
     "metadata": {},
     "output_type": "execute_result"
    }
   ],
   "source": [
    "search_title('Qaddafi')"
   ]
  },
  {
   "cell_type": "code",
   "execution_count": 11,
   "metadata": {},
   "outputs": [
    {
     "data": {
      "text/plain": [
       "['Thousands Fleeing Qaddafi Find Hospitality in Tunisia',\n",
       " 'The Fake Americans Russia Created to Influence the Election',\n",
       " 'Thousands Fleeing Qaddafi Find Hospitality in Tunisia',\n",
       " 'Libyan Forces Chase Rebel Convoy Into Tunisia, a Rebel Fighter Says',\n",
       " 'Libyan Forces Chase Rebel Convoy Into Tunisia, a Rebel Fighter Says',\n",
       " 'Libyan Forces Chase Rebel Convoy Into Tunisia, a Rebel Fighter Says']"
      ]
     },
     "execution_count": 11,
     "metadata": {},
     "output_type": "execute_result"
    }
   ],
   "source": [
    "search_author('Scott')"
   ]
  },
  {
   "cell_type": "code",
   "execution_count": 12,
   "metadata": {},
   "outputs": [
    {
     "data": {
      "text/plain": [
       "['European Union Bans Syrian Oil as Crackdown Continues',\n",
       " 'Trump Declares Opioid Crisis a ‘Health Emergency’ but Requests No Funds',\n",
       " 'In Arabian Desert, a Sustainable City Rises',\n",
       " 'Through the Outback']"
      ]
     },
     "execution_count": 12,
     "metadata": {},
     "output_type": "execute_result"
    }
   ],
   "source": [
    "search_fuzzy('austrio')"
   ]
  },
  {
   "cell_type": "code",
   "execution_count": 13,
   "metadata": {},
   "outputs": [
    {
     "data": {
      "text/plain": [
       "['The Fake Americans Russia Created to Influence the Election']"
      ]
     },
     "execution_count": 13,
     "metadata": {},
     "output_type": "execute_result"
    }
   ],
   "source": [
    "search_compound_fields('title', 'russia', 'authors', 'scott')"
   ]
  },
  {
   "cell_type": "markdown",
   "metadata": {},
   "source": [
    "## Bonus "
   ]
  },
  {
   "cell_type": "code",
   "execution_count": 14,
   "metadata": {},
   "outputs": [
    {
     "name": "stdout",
     "output_type": "stream",
     "text": [
      "With Brexit now the key dividing line in British politics, he said, management of a cabinet has become “close to impossible.”Having already lost her defense secretary, Michael Fallon, and with two other ministers under threat in the sleaze allegations, Mrs. May has declared Ms. Patel’s case closed.\n",
      "Mr. Johnson described her conviction for sedition as a mockery of justice but also said she had been “simply teaching people journalism.”PhotoMs.\n"
     ]
    }
   ],
   "source": [
    "#from sumy.parsers.html import HtmlParser\n",
    "from sumy.parsers.plaintext import PlaintextParser\n",
    "from sumy.nlp.tokenizers import Tokenizer\n",
    "from sumy.summarizers.lsa import LsaSummarizer as Summarizer\n",
    "from sumy.nlp.stemmers import Stemmer\n",
    "from sumy.utils import get_stop_words\n",
    "\n",
    "LANGUAGE = \"english\"\n",
    "SENTENCES_COUNT = 2\n",
    "\n",
    "if __name__ == \"__main__\":\n",
    "    \n",
    "    #url = \"https://www.nytimes.com/2017/11/08/world/europe/brexit-britain-patel-johnson.html\"\n",
    "    #parser = HtmlParser.from_url(url, Tokenizer(LANGUAGE))\n",
    "    \n",
    "    parser = PlaintextParser.from_string(\"Hence, a ragged government is “moving from one crisis to the next crisis,” in the words of Nicholas Crowson, professor of contemporary British history at the University of Birmingham. With Brexit now the key dividing line in British politics, he said, management of a cabinet has become “close to impossible.”Having already lost her defense secretary, Michael Fallon, and with two other ministers under threat in the sleaze allegations, Mrs. May has declared Ms. Patel’s case closed. And on Tuesday, Mr. Johnson brushed aside calls for his resignation.Ms. Patel held the meetings in Israel without telling the Foreign Office, a clear breach of protocol. The appointments were set up with the help of Stuart Polak, the honorary president of the Conservative Friends of Israel, a lobbying organization.Ms. Patel also asked officials from her department to examine whether public money could support humanitarian operations by the Israeli Defense Forces in parts of the Golan Heights. As she ought to have predicted, the answer was no, because Britain regards the Golan Heights as occupied territory.In addition, Ms. Patel was forced to issue an embarrassing clarification, walking back the false impression she gave The Guardian that Mr. Johnson was aware of her meetings in advance.The foreign secretary has problems of his own over comments he made when speaking to a parliamentary committee late last month about a British citizen of Iranian descent, Nazanin Zaghari-Ratcliffe, who is imprisoned in Iran. Mr. Johnson described her conviction for sedition as a mockery of justice but also said she had been “simply teaching people journalism.”PhotoMs. Zaghari-Ratcliffe is serving a five-year prison term on charges of seeking to overthrow the government, claims her supporters have called absurd. Days after Mr. Johnson’s comments, she was taken to a new court hearing, where the minister’s statement was cited as evidence that she had been engaged in “propaganda against the regime,” a serious offense.Advertisement Continue reading the main storyOn Tuesday Mr. Johnson said that in a phone conversation with his Iranian counterpart, Mohammad Javad Zarif, he had expressed concern that his words had been used against Ms. Zaghari-Ratcliffe, but was told that was not the case.“I accept that my remarks could have been clearer,” Mr. Johnson said. But he declined to apologize and he called on critics to direct their ire at Iran instead.Newsletter Sign Up Continue reading the main story Please verify you're not a robot by clicking the box. Invalid email address. Please re-enter. You must select a newsletter to subscribe to. Sign Up You agree to receive occasional updates and special offers for The New York Times's products and services. Thank you for subscribing. An error has occurred. Please try again later. View all New York Times newsletters.That failed to satisfy opposition lawmakers, including Ben Bradshaw, who said that if Britain “had a prime minister who wasn’t so weak,” both of the cabinet ministers “would have been sacked.”The shadow foreign secretary, Emily Thornberry, told lawmakers that she hoped that “no lasting damage has been done to Nazarin as a result of his blunder.”Mr. Johnson was always a controversial choice of foreign secretary, having before his appointment suggested that President Barack Obama had an “ancestral dislike of the British Empire,” written a poem insinuating that Turkey’s president had sexual relations with a goat and likened the European Union to the Third Reich.Ms. Patel’s appointment raised eyebrows, too, because she told The Daily Telegraph in 2013 that the department she now runs should be scrapped and replaced with a trade-focused body to help businesses invest in the developing world.Yet, Mr. Johnson and Ms. Patel were leading campaigners for Brexit in the referendum, and Mrs. May therefore found them cabinet jobs — a big one in the case of Mr. Johnson, one of the public faces of the campaign to leave the European Union.The resignation from the defense post by Mr. Fallon, a “remain” supporter in the referendum, seems to have been prompted in part by complaints from a Brexit-enthusiast, Andrea Leadsom, who is the leader of the House of Commons.When Mr. Fallon stood down last week, the internal balance of the cabinet meant that he had to be replaced by someone who — like him — was loyal to Mrs. May and who had campaigned for remain during the referendum. Mrs. May opted to promote the chief whip, Gavin Williamson, a decision that provoked fierce complaints that such a senior position had gone to someone with no experience of a big government department or knowledge of the military.Advertisement Continue reading the main storyPerhaps the only consolation for Mrs. May is that, at a time when her leadership is under continual threat, several potential successors are — for now at least — out of the picture. Mr. Fallon had been talked of a potential caretaker leader, while Mr. Johnson’s latest misstep error has focused attention on his competence.On Tuesday one lawmaker, Anna Soubry, wrote on Twitter that Mr. Johnson’s “lack of contrition is as shameful as the original error” over Ms. Zaghari-Ratcliffe. She said, “Boris Johnson doesn’t understand magnitude of the job & responsibility he holds.”And Ms. Soubry is a fellow Conservative.\", Tokenizer(LANGUAGE))\n",
    "    stemmer = Stemmer(LANGUAGE)\n",
    "\n",
    "    summarizer = Summarizer(stemmer)\n",
    "\n",
    "    for sentence in summarizer(parser.document, SENTENCES_COUNT):\n",
    "        print(sentence)"
   ]
  },
  {
   "cell_type": "code",
   "execution_count": null,
   "metadata": {
    "collapsed": true
   },
   "outputs": [],
   "source": []
  }
 ],
 "metadata": {
  "kernelspec": {
   "display_name": "Python 3",
   "language": "python",
   "name": "python3"
  },
  "language_info": {
   "codemirror_mode": {
    "name": "ipython",
    "version": 3
   },
   "file_extension": ".py",
   "mimetype": "text/x-python",
   "name": "python",
   "nbconvert_exporter": "python",
   "pygments_lexer": "ipython3",
   "version": "3.6.3"
  }
 },
 "nbformat": 4,
 "nbformat_minor": 2
}
