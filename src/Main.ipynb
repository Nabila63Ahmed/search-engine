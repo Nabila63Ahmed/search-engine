{
 "cells": [
  {
   "cell_type": "markdown",
   "metadata": {},
   "source": [
    "# Search Engine full stack "
   ]
  },
  {
   "cell_type": "markdown",
   "metadata": {},
   "source": [
    "## Building an Indexer for the crawled webpages"
   ]
  },
  {
   "cell_type": "code",
   "execution_count": 1,
   "metadata": {},
   "outputs": [],
   "source": [
    "import os, elasticsearch"
   ]
  },
  {
   "cell_type": "code",
   "execution_count": 2,
   "metadata": {},
   "outputs": [],
   "source": [
    "scrapped = {}\n",
    "\n",
    "article_path = \"newyorktimes/newyorktimes/articles\"\n",
    "\n",
    "docs = [] \n",
    "doc_names = []\n",
    "doc_dic ={}\n",
    "for root, dirs, files in os.walk(article_path):\n",
    "    for file in files:\n",
    "        with open(os.path.join(root,file), 'r') as f:\n",
    "            doc_dic[file]= f.read()\n",
    "            \n",
    "docs = [*doc_dic.values()]\n",
    "doc_names = [*doc_dic.keys()] "
   ]
  },
  {
   "cell_type": "code",
   "execution_count": 3,
   "metadata": {},
   "outputs": [],
   "source": [
    "es = elasticsearch.Elasticsearch()\n",
    "\n",
    "for i in range(len(docs)):\n",
    "    title = doc_names[i].split('-')[1].split('.txt')[0]\n",
    "    authors = list(filter(lambda x: x, docs[i].split('Author(s): ')[1].split('\\n')[0].split(', ')))\n",
    "    url = docs[i].split('url: ')[1].split('\\n')[0]\n",
    "    text =''.join(docs[i].split('url: ')[1].split('\\n')[2:])\n",
    "\n",
    "    es.index(index='scrapped', doc_type='article', id=i, body={\n",
    "        'title': title,\n",
    "        'authors': authors,\n",
    "        'url': url,\n",
    "        'text': text\n",
    "    })"
   ]
  },
  {
   "cell_type": "code",
   "execution_count": 4,
   "metadata": {},
   "outputs": [],
   "source": [
    "def search_exact_word(word):\n",
    "    res = es.search(index='scrapped', body={\"query\": {\"match\": {\"text\": word}}})\n",
    "    return list(map(lambda x: x['_source']['title'], res['hits']['hits']))"
   ]
  }
 ],
 "metadata": {
  "kernelspec": {
   "display_name": "Python 3",
   "language": "python",
   "name": "python3"
  },
  "language_info": {
   "codemirror_mode": {
    "name": "ipython",
    "version": 3
   },
   "file_extension": ".py",
   "mimetype": "text/x-python",
   "name": "python",
   "nbconvert_exporter": "python",
   "pygments_lexer": "ipython3",
   "version": "3.6.3"
  }
 },
 "nbformat": 4,
 "nbformat_minor": 2
}
