{
 "cells": [
  {
   "cell_type": "markdown",
   "metadata": {},
   "source": [
    "# Search Engine full stack "
   ]
  },
  {
   "cell_type": "markdown",
   "metadata": {},
   "source": [
    "## Building an Indexer for the crawled webpages"
   ]
  },
  {
   "cell_type": "code",
   "execution_count": 1,
   "metadata": {},
   "outputs": [],
   "source": [
    "import os, elasticsearch"
   ]
  },
  {
   "cell_type": "code",
   "execution_count": 2,
   "metadata": {},
   "outputs": [],
   "source": [
    "scrapped = {}\n",
    "\n",
    "article_path = \"newyorktimes/newyorktimes/articles\"\n",
    "\n",
    "docs = [] \n",
    "doc_names = []\n",
    "doc_dic ={}\n",
    "for root, dirs, files in os.walk(article_path):\n",
    "    for file in files:\n",
    "        with open(os.path.join(root,file), 'r') as f:\n",
    "            doc_dic[file]= f.read()\n",
    "            \n",
    "docs = [*doc_dic.values()]\n",
    "doc_names = [*doc_dic.keys()] "
   ]
  },
  {
   "cell_type": "code",
   "execution_count": 3,
   "metadata": {},
   "outputs": [],
   "source": [
    "es = elasticsearch.Elasticsearch()\n",
    "\n",
    "for i in range(len(docs)):\n",
    "    title = ''.join(doc_names[i].split('-')[1:]).split('.txt')[0]\n",
    "    authors = docs[i].split('Author(s): ')[1].split('\\n')[0].split(', ')\n",
    "    url = docs[i].split('url: ')[1].split('\\n')[0]\n",
    "    text =''.join(docs[i].split('url: ')[1].split('\\n')[2:])\n",
    "\n",
    "    es.index(index='scrapped', doc_type='article', id=i, body={\n",
    "        'title': title,\n",
    "        'authors': authors,\n",
    "        'url': url,\n",
    "        'text': text\n",
    "    })"
   ]
  },
  {
   "cell_type": "code",
   "execution_count": 4,
   "metadata": {},
   "outputs": [],
   "source": [
    "def search_text(word):\n",
    "    res = es.search(index='scrapped', body={\"query\": {\"match\": {\"text\": word}}})\n",
    "    return list(map(lambda x: x['_source']['title'], res['hits']['hits']))"
   ]
  },
  {
   "cell_type": "code",
   "execution_count": 5,
   "metadata": {},
   "outputs": [],
   "source": [
    "def search_title(word):\n",
    "    res = es.search(index='scrapped', body={\"query\": {\"match\": {\"title\": word}}})\n",
    "    return list(map(lambda x: x['_source']['title'], res['hits']['hits']))"
   ]
  },
  {
   "cell_type": "code",
   "execution_count": 6,
   "metadata": {},
   "outputs": [],
   "source": [
    "def search_author(word):\n",
    "    res = es.search(index='scrapped', body={\"query\": {\"match\": {\"authors\": word}}})\n",
    "    return list(map(lambda x: x['_source']['title'], res['hits']['hits']))"
   ]
  },
  {
   "cell_type": "code",
   "execution_count": 7,
   "metadata": {},
   "outputs": [],
   "source": [
    "def search_fuzzy(word):\n",
    "    res = es.search(index='scrapped', body={\"query\": {\"fuzzy\": {\"text\": word}}})\n",
    "    return list(map(lambda x: x['_source']['title'], res['hits']['hits']))"
   ]
  },
  {
   "cell_type": "code",
   "execution_count": 8,
   "metadata": {},
   "outputs": [],
   "source": [
    "def search_compound_fields(field1, value1, field2, value2):\n",
    "    res = es.search(index='scrapped', body={ \"query\": { \"bool\": { \"must\": [ { \"match\": { field1: value1 } }, { \"match\": { field2: value2 } } ] } } })\n",
    "    return list(map(lambda x: x['_source']['title'], res['hits']['hits']))"
   ]
  },
  {
   "cell_type": "code",
   "execution_count": 9,
   "metadata": {},
   "outputs": [
    {
     "data": {
      "text/plain": [
       "['Syrian Military Seizes Mosque in Dara’a That Was Focus of Uprising',\n",
       " 'Libyan Forces Chase Rebel Convoy Into Tunisia, a Rebel Fighter Says',\n",
       " 'Libyan Forces Chase Rebel Convoy Into Tunisia, a Rebel Fighter Says',\n",
       " 'In Libya, Reinforcements Help Rebels Hold Their Ground',\n",
       " 'Aleppo Residents, Battered by War, Struggle to Survive',\n",
       " 'Syrian Resort Town Is Stronghold for Alawites']"
      ]
     },
     "execution_count": 9,
     "metadata": {},
     "output_type": "execute_result"
    }
   ],
   "source": [
    "search_text('Ahmed')"
   ]
  },
  {
   "cell_type": "code",
   "execution_count": 10,
   "metadata": {},
   "outputs": [
    {
     "data": {
      "text/plain": [
       "['Rebels Storm Qaddafi Compound',\n",
       " 'Rebels Storm Qaddafi Compound',\n",
       " 'Allies Pressure Qaddafi Forces',\n",
       " 'Rebels Storm Qaddafi Compound',\n",
       " 'Rebels Storm Qaddafi Compound',\n",
       " 'Allies Pressure Qaddafi Forces',\n",
       " 'Rebels Storm Qaddafi Compound',\n",
       " 'Rebels Storm Qaddafi Compound',\n",
       " 'Qaddafi at Large as Forces Fight to Control Compound',\n",
       " 'Allies Pressure Qaddafi Forces']"
      ]
     },
     "execution_count": 10,
     "metadata": {},
     "output_type": "execute_result"
    }
   ],
   "source": [
    "search_title('Qaddafi')"
   ]
  },
  {
   "cell_type": "code",
   "execution_count": 11,
   "metadata": {},
   "outputs": [
    {
     "data": {
      "text/plain": [
       "['The Fake Americans Russia Created to Influence the Election',\n",
       " 'Thousands Fleeing Qaddafi Find Hospitality in Tunisia',\n",
       " 'Thousands Fleeing Qaddafi Find Hospitality in Tunisia',\n",
       " 'Libyan Forces Chase Rebel Convoy Into Tunisia, a Rebel Fighter Says',\n",
       " 'Libyan Forces Chase Rebel Convoy Into Tunisia, a Rebel Fighter Says',\n",
       " 'Libyan Forces Chase Rebel Convoy Into Tunisia, a Rebel Fighter Says']"
      ]
     },
     "execution_count": 11,
     "metadata": {},
     "output_type": "execute_result"
    }
   ],
   "source": [
    "search_author('Scott')"
   ]
  },
  {
   "cell_type": "code",
   "execution_count": 12,
   "metadata": {},
   "outputs": [
    {
     "data": {
      "text/plain": [
       "['European Union Bans Syrian Oil as Crackdown Continues',\n",
       " 'Trump Declares Opioid Crisis a ‘Health Emergency’ but Requests No Funds',\n",
       " 'In Arabian Desert, a Sustainable City Rises',\n",
       " 'Through the Outback']"
      ]
     },
     "execution_count": 12,
     "metadata": {},
     "output_type": "execute_result"
    }
   ],
   "source": [
    "search_fuzzy('austrio')"
   ]
  },
  {
   "cell_type": "code",
   "execution_count": 13,
   "metadata": {},
   "outputs": [
    {
     "data": {
      "text/plain": [
       "['The Fake Americans Russia Created to Influence the Election']"
      ]
     },
     "execution_count": 13,
     "metadata": {},
     "output_type": "execute_result"
    }
   ],
   "source": [
    "search_compound_fields('title', 'russia', 'authors', 'scott')"
   ]
  }
 ],
 "metadata": {
  "kernelspec": {
   "display_name": "Python 3",
   "language": "python",
   "name": "python3"
  },
  "language_info": {
   "codemirror_mode": {
    "name": "ipython",
    "version": 3
   },
   "file_extension": ".py",
   "mimetype": "text/x-python",
   "name": "python",
   "nbconvert_exporter": "python",
   "pygments_lexer": "ipython3",
   "version": "3.6.2"
  }
 },
 "nbformat": 4,
 "nbformat_minor": 2
}
