{
 "cells": [
  {
   "cell_type": "markdown",
   "metadata": {},
   "source": [
    "# Search Engine full stack "
   ]
  },
  {
   "cell_type": "markdown",
   "metadata": {},
   "source": [
    "## Building an Indexer for the crawled webpages"
   ]
  },
  {
   "cell_type": "code",
   "execution_count": 1,
   "metadata": {
    "collapsed": true,
    "scrolled": true
   },
   "outputs": [],
   "source": [
    "import os, elasticsearch"
   ]
  },
  {
   "cell_type": "code",
   "execution_count": 2,
   "metadata": {
    "collapsed": true
   },
   "outputs": [],
   "source": [
    "article_path = \"newyorktimes/newyorktimes/articles\"\n",
    "\n",
    "docs = [] \n",
    "doc_names = []\n",
    "doc_dic ={}\n",
    "for root, dirs, files in os.walk(article_path):\n",
    "    for file in files:\n",
    "        with open(os.path.join(root,file), 'r') as f:\n",
    "            doc_dic[file]= f.read()\n",
    "            \n",
    "docs = [*doc_dic.values()]\n",
    "doc_names = [*doc_dic.keys()] "
   ]
  },
  {
   "cell_type": "code",
   "execution_count": 3,
   "metadata": {
    "collapsed": true
   },
   "outputs": [],
   "source": [
    "es = elasticsearch.Elasticsearch()\n",
    "\n",
    "for i in range(len(docs)):\n",
    "    title = ''.join(doc_names[i].split('-')[1:]).split('.txt')[0]\n",
    "    authors = docs[i].split('Author(s): ')[1].split('\\n')[0].split(', ')\n",
    "    url = docs[i].split('url: ')[1].split('\\n')[0]\n",
    "    text = ''.join(docs[i].split(url)[1].split('\\n')[2:])\n",
    "\n",
    "    es.index(index='scrapped', doc_type='article', id=i, body={\n",
    "        'title': title,\n",
    "        'authors': authors,\n",
    "        'url': url,\n",
    "        'text': text\n",
    "    })"
   ]
  },
  {
   "cell_type": "code",
   "execution_count": 4,
   "metadata": {
    "collapsed": true
   },
   "outputs": [],
   "source": [
    "def search_text(word):\n",
    "    res = es.search(index='scrapped', body={\"query\": {\"match\": {\"text\": word}}})\n",
    "    return list(map(lambda x: x['_source'], res['hits']['hits']))"
   ]
  },
  {
   "cell_type": "code",
   "execution_count": 5,
   "metadata": {
    "collapsed": true
   },
   "outputs": [],
   "source": [
    "def search_title(word):\n",
    "    res = es.search(index='scrapped', body={\"query\": {\"match\": {\"title\": word}}})\n",
    "    return list(map(lambda x: x['_source'], res['hits']['hits']))"
   ]
  },
  {
   "cell_type": "code",
   "execution_count": 6,
   "metadata": {
    "collapsed": true
   },
   "outputs": [],
   "source": [
    "def search_author(word):\n",
    "    res = es.search(index='scrapped', body={\"query\": {\"match\": {\"authors\": word}}})\n",
    "    return list(map(lambda x: x['_source'], res['hits']['hits']))"
   ]
  },
  {
   "cell_type": "code",
   "execution_count": 7,
   "metadata": {
    "collapsed": true
   },
   "outputs": [],
   "source": [
    "def search_fuzzy(word):\n",
    "    res = es.search(index='scrapped', body={\"query\": {\"fuzzy\": {\"text\": word}}})\n",
    "    return list(map(lambda x: x['_source'], res['hits']['hits']))"
   ]
  },
  {
   "cell_type": "code",
   "execution_count": 8,
   "metadata": {
    "collapsed": true
   },
   "outputs": [],
   "source": [
    "def search_compound_fields(field1, value1, field2, value2):\n",
    "    res = es.search(index='scrapped', body={ \"query\": { \"bool\": { \"must\": [ { \"match\": { field1: value1 } }, { \"match\": { field2: value2 } } ] } } })\n",
    "    return list(map(lambda x: x['_source'], res['hits']['hits']))"
   ]
  },
  {
   "cell_type": "code",
   "execution_count": 9,
   "metadata": {},
   "outputs": [
    {
     "data": {
      "text/plain": [
       "['Syrian Military Seizes Mosque in Dara’a That Was Focus of Uprising',\n",
       " 'In Libya, Reinforcements Help Rebels Hold Their Ground',\n",
       " 'Libyan Forces Chase Rebel Convoy Into Tunisia, a Rebel Fighter Says',\n",
       " 'Libyan Forces Chase Rebel Convoy Into Tunisia, a Rebel Fighter Says',\n",
       " 'Syrian Resort Town Is Stronghold for Alawites',\n",
       " 'Aleppo Residents, Battered by War, Struggle to Survive']"
      ]
     },
     "execution_count": 9,
     "metadata": {},
     "output_type": "execute_result"
    }
   ],
   "source": [
    "list(map(lambda article: article['title'], search_text('Ahmed')))"
   ]
  },
  {
   "cell_type": "code",
   "execution_count": 10,
   "metadata": {},
   "outputs": [
    {
     "data": {
      "text/plain": [
       "['Allies Pressure Qaddafi Forces',\n",
       " 'Rebels Storm Qaddafi Compound',\n",
       " 'Rebels Storm Qaddafi Compound',\n",
       " 'Rebels Storm Qaddafi Compound',\n",
       " 'Allies Pressure Qaddafi Forces',\n",
       " 'Rebels Storm Qaddafi Compound',\n",
       " 'Allies Pressure Qaddafi Forces',\n",
       " 'Allies Pressure Qaddafi Forces',\n",
       " 'Rebels Storm Qaddafi Compound',\n",
       " 'Rebels Storm Qaddafi Compound']"
      ]
     },
     "execution_count": 10,
     "metadata": {},
     "output_type": "execute_result"
    }
   ],
   "source": [
    "list(map(lambda article: article['title'], search_title('Qaddafi')))"
   ]
  },
  {
   "cell_type": "code",
   "execution_count": 11,
   "metadata": {},
   "outputs": [
    {
     "data": {
      "text/plain": [
       "['Thousands Fleeing Qaddafi Find Hospitality in Tunisia',\n",
       " 'The Fake Americans Russia Created to Influence the Election',\n",
       " 'Thousands Fleeing Qaddafi Find Hospitality in Tunisia',\n",
       " 'Libyan Forces Chase Rebel Convoy Into Tunisia, a Rebel Fighter Says',\n",
       " 'Libyan Forces Chase Rebel Convoy Into Tunisia, a Rebel Fighter Says',\n",
       " 'Libyan Forces Chase Rebel Convoy Into Tunisia, a Rebel Fighter Says']"
      ]
     },
     "execution_count": 11,
     "metadata": {},
     "output_type": "execute_result"
    }
   ],
   "source": [
    "list(map(lambda article: article['title'], search_author('Scott')))"
   ]
  },
  {
   "cell_type": "code",
   "execution_count": 12,
   "metadata": {},
   "outputs": [
    {
     "data": {
      "text/plain": [
       "['European Union Bans Syrian Oil as Crackdown Continues',\n",
       " 'Trump Declares Opioid Crisis a ‘Health Emergency’ but Requests No Funds',\n",
       " 'In Arabian Desert, a Sustainable City Rises',\n",
       " 'Through the Outback']"
      ]
     },
     "execution_count": 12,
     "metadata": {},
     "output_type": "execute_result"
    }
   ],
   "source": [
    "list(map(lambda article: article['title'], search_fuzzy('austrio')))"
   ]
  },
  {
   "cell_type": "code",
   "execution_count": 13,
   "metadata": {},
   "outputs": [
    {
     "data": {
      "text/plain": [
       "['The Fake Americans Russia Created to Influence the Election']"
      ]
     },
     "execution_count": 13,
     "metadata": {},
     "output_type": "execute_result"
    }
   ],
   "source": [
    "list(map(lambda article: article['title'], search_compound_fields('title', 'russia', 'authors', 'scott')))"
   ]
  },
  {
   "cell_type": "markdown",
   "metadata": {},
   "source": [
    "## Summarizer "
   ]
  },
  {
   "cell_type": "code",
   "execution_count": 14,
   "metadata": {
    "collapsed": true
   },
   "outputs": [],
   "source": [
    "from sumy.parsers.plaintext import PlaintextParser\n",
    "from sumy.nlp.tokenizers import Tokenizer\n",
    "from sumy.summarizers.lsa import LsaSummarizer as Summarizer\n",
    "from sumy.nlp.stemmers import Stemmer\n",
    "\n",
    "LANGUAGE = \"english\"\n",
    "SENTENCES_COUNT = 4\n",
    "\n",
    "def summarize_text(text):\n",
    "    parser = PlaintextParser.from_string(text, Tokenizer(LANGUAGE))\n",
    "    stemmer = Stemmer(LANGUAGE)\n",
    "    summarizer = Summarizer(stemmer)\n",
    "\n",
    "    sentences = []\n",
    "    \n",
    "    for sentence in summarizer(parser.document, SENTENCES_COUNT):\n",
    "        sentences.append(' '.join(sentence.words))\n",
    "    \n",
    "    return ' '.join(sentences)"
   ]
  },
  {
   "cell_type": "markdown",
   "metadata": {},
   "source": [
    "## Snippet surrounding"
   ]
  },
  {
   "cell_type": "code",
   "execution_count": 15,
   "metadata": {
    "collapsed": true
   },
   "outputs": [],
   "source": [
    "import re\n",
    "import numpy as np\n",
    "\n",
    "def get_surrounding(text, word, n):\n",
    "    wordregx = r\"\\W*([\\w]+)\"\n",
    "    groups =  np.array(re.search(r'{}\\W*{}{}'.format(wordregx*n, word,wordregx*n), text).groups())\n",
    "    return ' '.join(np.hstack(( groups[:n], [word], groups[n:] )).ravel())"
   ]
  },
  {
   "cell_type": "code",
   "execution_count": 16,
   "metadata": {
    "collapsed": true,
    "scrolled": false
   },
   "outputs": [],
   "source": [
    "article_text = list(map(lambda article: article['text'], search_text('weather')))[0]"
   ]
  },
  {
   "cell_type": "code",
   "execution_count": 17,
   "metadata": {},
   "outputs": [
    {
     "data": {
      "text/plain": [
       "'But outside experts say and anecdotal evidence suggests that old intrigues thought to have been suppressed are at work again With a retro campaign encouraging residents to sing patriotic songs those initiatives delighted leftists and won broad support among vast throngs of citizens left behind in China s race toward among others the programs raised uncomfortable parallels to Mao s disastrous Cultural Revolution crusade against capitalism in which millions died or were persecuted and smacked of Bo s basic problem is that he does not operate according to the party s established practices said a journalist for one Communist Party news outlet speaking anonymously for fear of reprisal Instead they will be chosen by a consensus of elite some accounts Bo s ouster weakens the loose political coalition that is still maintained by Jiang Zemin who left China s presidency a decade ago but still wields power through officials he has placed in the leadership bureaucracy View all New York Times probably are other winners and losers particularly among those ambitious Chinese politicians who were competing with Bo for one of the coveted Standing Committee seats'"
      ]
     },
     "execution_count": 17,
     "metadata": {},
     "output_type": "execute_result"
    }
   ],
   "source": [
    "summarize_text(article_text)"
   ]
  },
  {
   "cell_type": "code",
   "execution_count": 18,
   "metadata": {},
   "outputs": [
    {
     "data": {
      "text/plain": [
       "'This is a critical political issue perhaps'"
      ]
     },
     "execution_count": 18,
     "metadata": {},
     "output_type": "execute_result"
    }
   ],
   "source": [
    "get_surrounding(article_text, 'critical', 3)"
   ]
  }
 ],
 "metadata": {
  "kernelspec": {
   "display_name": "Python 3",
   "language": "python",
   "name": "python3"
  },
  "language_info": {
   "codemirror_mode": {
    "name": "ipython",
    "version": 3
   },
   "file_extension": ".py",
   "mimetype": "text/x-python",
   "name": "python",
   "nbconvert_exporter": "python",
   "pygments_lexer": "ipython3",
   "version": "3.6.3"
  }
 },
 "nbformat": 4,
 "nbformat_minor": 2
}
